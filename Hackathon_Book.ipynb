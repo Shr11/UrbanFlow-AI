{
  "cells": [
    {
      "cell_type": "markdown",
      "metadata": {
        "id": "vwsAub-VhSQl"
      },
      "source": [
        "# **Smart Urban Mobility Optimizer: AI-Driven Solutions for Sustainable Cities**"
      ]
    },
   
    {
      "cell_type": "markdown",
      "metadata": {
        "id": "zsvAQjiAY57s"
      },
      "source": [
        "##**Dataset**\n",
        "The dataset represents traffic and environmental metrics collected from various locations. It is designed to provide insights into urban mobility, congestion, and environmental conditions in different regions. The dataset includes detailed metrics related to traffic density, air quality, and time-related variables. These metrics can help identify patterns in congestion, environmental pollution, and variations in traffic flow during different times of the day or week.\n",
        "\n",
        "The dataset includes traffic and environmental metrics:\n",
        "\n",
        "You have access to this file.\n",
        "(`hackathon_data.csv`)\n",
        "\n",
        "| Column name | Description | Sample Data |\n",
        "|-------------|-----------|---------|\n",
        "| Location |The name of the location where the data was collected. It provides geographic context for the dataset.|'Lajpat Nagar','Saket'|\n",
        "| Traffic Volume |The number of vehicles passing through the area during a given time period. Helps measure the density of vehicle activity at different locations and times.|'1289','4700'|\n",
        "| Passenger Count |The total number of passengers in the location during the recorded time. This reflects traffic density in terms of human movement.|'23686','12187'|\n",
        "| Noise Level |The average noise level in decibels at the location during the recorded period.The noise level measured in decibels (dB) in the area.|'65.4','85.3'|\n",
        "| Average Speed |The average speed of vehicles (in kilometers per hour) traveling through the area during the specified time. Provides insight into traffic flow and congestion levels.|'15.6', '31.3'|\n",
        "| PM2.5 Level |The concentration of fine particulate matter (PM2.5) in the air, measured in micrograms per cubic meter (µg/m³). Indicates air quality and the level of air pollution harmful to respiratory health.|'85.2', '170.7'|\n",
        "| AQI (Air Quality Index) |A standardized index measuring the quality of air in an area. Higher values indicate worse air quality. Helps monitor environmental health and pollution risks.|'72', '150'|\n",
        "| Time of the Day |The time frame during which the data was captured, categorized as Morning, Afternoon, Evening, or Night. Identifies variations in traffic and environmental metrics based on daily time periods.|'Morning', 'Night'|\n",
        "| Day of the Week | The specific day on which the data was collected. Highlights trends based on weekly traffic and environmental patterns. |'Sunday','Friday'|\n"
      ]
    },
   
    
    {
      "cell_type": "code",
      "execution_count": 36,
      "metadata": {
        "colab": {
          "base_uri": "https://localhost:8080/"
        },
        "id": "y_KXFwu2eqgG",
        "outputId": "55949e8b-23af-4ce7-d43d-80f2a03dc34b"
      },
      "outputs": [
        {
          "name": "stdout",
          "output_type": "stream",
          "text": [
            "      Location  Traffic Volume  Passenger Count  Noise Level  Average Speed  \\\n",
            "0  Vasant Kunj          1797.0           7188.0       30.549           31.0   \n",
            "1    Pitampura          1822.0          23686.0       32.796           33.0   \n",
            "2       Rohini          2316.0              NaN       34.740           28.0   \n",
            "3   Karol Bagh          3664.0          40304.0       58.624           17.0   \n",
            "4   Karol Bagh          1168.0          16352.0       21.024           34.0   \n",
            "\n",
            "   PM2.5 Level    AQI Day of the Week Time of the Day  \n",
            "0        89.85   89.0          Sunday         Morning  \n",
            "1        72.88   72.0          Monday         Evening  \n",
            "2       138.96  277.0          Sunday       Afternoon  \n",
            "3       256.48  769.0          Sunday           Night  \n",
            "4        46.72   93.0        Thursday       Afternoon  \n"
          ]
        }
      ],
      "source": [
        "# import pandas library as pd\n",
        "import pandas as pd\n",
        "\n",
        "# Read the CSV file into a DataFrame.\n",
        "try:\n",
        "# Replace the space with the dataset file path along with the extension csv\n",
        "  df = pd.read_csv('data.csv')\n",
        "\n",
        "# dataframe.head() displays the first 5 rows of the dataset\n",
        "  print(df.head())\n",
        "except FileNotFoundError:\n",
        "  print(\"Error: hackathon_data not found. Please check the file path.\")\n",
        "except pd.errors.ParserError:\n",
        "  print(\"Error: Could not parse hackathon_data. Please check the file format.\")\n",
        "except Exception as e:\n",
        "  print(f\"An unexpected error occurred: {e}\")"
      ]
    },
    {
      "cell_type": "markdown",
      "metadata": {
        "id": "BlS3uJ5BhX0E"
      },
      "source": [
        "### ***Summary of the dataset***\n",
        "\n",
        "The summary of the dataset provides a quick overview of its structure, content, and quality. It helps to understand the Data (Learn about the column names, data types, number of rows, and basic statistics), Identify Issues (Spot missing values, outliers, or inconsistencies), Assess Distribution (Understand how data is distributed, such as skewness or clustering)"
      ]
    },
    {
      "cell_type": "code",
      "execution_count": 37,
      "metadata": {
        "colab": {
          "base_uri": "https://localhost:8080/"
        },
        "id": "Qm3xRLR1aHXQ",
        "outputId": "19ca428d-ee92-49b6-fe4a-e15398f8d3f0"
      },
      "outputs": [
        {
          "data": {
            "text/plain": [
              "(7000, 9)"
            ]
          },
          "execution_count": 37,
          "metadata": {},
          "output_type": "execute_result"
        }
      ],
      "source": [
        "# .shape returns a tuple representing the dimensions of our DataFrame df. The output shows the number of rows and columns in the dataset, helping to quickly understand its size.\n",
        "df.shape"
      ]
    },
    {
      "cell_type": "markdown",
      "metadata": {
        "id": "2G-I4C_DfUV5"
      },
      "source": [
        "So, our dataset has 7000 rows and 9 columns of data.\n",
        "\n",
        "Let us now have a look at the descriptive statistics (Assess Distribution) of the dataset. We will utilize the **.describe** function which generates descriptive statistics for the DataFrame, including **all** data types (numerical, categorical, etc.). It provides information like count, mean, min, max, and unique values, offering a summary of the dataset's distribution."
      ]
    },
    {
      "cell_type": "code",
      "execution_count": 38,
      "metadata": {
        "colab": {
          "base_uri": "https://localhost:8080/",
          "height": 394
        },
        "id": "6Qb1sCKhZ1Nq",
        "outputId": "de45f7ed-7fd8-4549-b18b-c3c44bde3802"
      },
      "outputs": [
        {
          "data": {
            "text/plain": [
              "<bound method NDFrame.describe of          Location  Traffic Volume  Passenger Count  Noise Level  \\\n",
              "0     Vasant Kunj          1797.0           7188.0       30.549   \n",
              "1       Pitampura          1822.0          23686.0       32.796   \n",
              "2          Rohini          2316.0              NaN       34.740   \n",
              "3      Karol Bagh          3664.0          40304.0       58.624   \n",
              "4      Karol Bagh          1168.0          16352.0       21.024   \n",
              "...           ...             ...              ...          ...   \n",
              "6995        Saket           728.0           3640.0       13.104   \n",
              "6996       Dwarka          4833.0          72495.0       86.994   \n",
              "6997  Mayur Vihar          3035.0          45525.0       45.525   \n",
              "6998   Karol Bagh          2934.0           5868.0          NaN   \n",
              "6999       Rohini          2046.0          18414.0       36.828   \n",
              "\n",
              "      Average Speed  PM2.5 Level    AQI Day of the Week Time of the Day  \n",
              "0              31.0        89.85   89.0          Sunday         Morning  \n",
              "1              33.0        72.88   72.0          Monday         Evening  \n",
              "2              28.0       138.96  277.0          Sunday       Afternoon  \n",
              "3              17.0       256.48  769.0          Sunday           Night  \n",
              "4              34.0        46.72   93.0        Thursday       Afternoon  \n",
              "...             ...          ...    ...             ...             ...  \n",
              "6995           40.0        29.12   87.0        Thursday        Midnight  \n",
              "6996           10.0       386.64  773.0          Friday           Night  \n",
              "6997           24.0       182.10  364.0         Tuesday           Night  \n",
              "6998           28.0       205.38  616.0        Thursday         Evening  \n",
              "6999            NaN        81.84  245.0             NaN         Morning  \n",
              "\n",
              "[7000 rows x 9 columns]>"
            ]
          },
          "execution_count": 38,
          "metadata": {},
          "output_type": "execute_result"
        }
      ],
      "source": [
        "# Display summary statistics of the DataFrame\n",
        "# The 'all' here basically signals the function to return all forms of descriptive statistics\n",
        "df.describe\n"
      ]
    },
    {
      "cell_type": "markdown",
      "metadata": {
        "id": "f3fAuiTQhnYh"
      },
      "source": [
        "Now, let's have a look at the **info** of the dataframe, including the data types, number of non-null values in each column, and memory usage. It helps to quickly assess the structure and completeness of the dataset. It provides essential information about the dataset, including its structure, column data types, and null values."
      ]
    },
    {
      "cell_type": "code",
      "execution_count": 39,
      "metadata": {
        "colab": {
          "base_uri": "https://localhost:8080/"
        },
        "id": "-ZvjMHXLnaCf",
        "outputId": "3f02d908-40db-4e9c-fee1-2534d6bb739f"
      },
      "outputs": [
        {
          "name": "stdout",
          "output_type": "stream",
          "text": [
            "<class 'pandas.core.frame.DataFrame'>\n",
            "RangeIndex: 7000 entries, 0 to 6999\n",
            "Data columns (total 9 columns):\n",
            " #   Column           Non-Null Count  Dtype  \n",
            "---  ------           --------------  -----  \n",
            " 0   Location         7000 non-null   object \n",
            " 1   Traffic Volume   6654 non-null   float64\n",
            " 2   Passenger Count  6652 non-null   float64\n",
            " 3   Noise Level      6650 non-null   float64\n",
            " 4   Average Speed    6653 non-null   float64\n",
            " 5   PM2.5 Level      6655 non-null   float64\n",
            " 6   AQI              6650 non-null   float64\n",
            " 7   Day of the Week  6650 non-null   object \n",
            " 8   Time of the Day  6650 non-null   object \n",
            "dtypes: float64(6), object(3)\n",
            "memory usage: 492.3+ KB\n"
          ]
        }
      ],
      "source": [
        "# Display data types of each column\n",
        "df.info()\n"
      ]
    },
    {
      "cell_type": "markdown",
      "metadata": {
        "id": "dmPkotOe0Xfa"
      },
      "source": [
        "### ***Percentage of null values for each column***\n",
        "\n",
        "We can clearly notice there are some null values in few of our columns, so why don't you find the count of missing values in each column.\n",
        "\n",
        "Hint: **sum()** function"
      ]
    },
    {
      "cell_type": "code",
      "execution_count": 40,
      "metadata": {
        "id": "MIAcwDuHd4D-"
      },
      "outputs": [
        {
          "data": {
            "text/plain": [
              "Location             0\n",
              "Traffic Volume     346\n",
              "Passenger Count    348\n",
              "Noise Level        350\n",
              "Average Speed      347\n",
              "PM2.5 Level        345\n",
              "AQI                350\n",
              "Day of the Week    350\n",
              "Time of the Day    350\n",
              "dtype: int64"
            ]
          },
          "execution_count": 40,
          "metadata": {},
          "output_type": "execute_result"
        }
      ],
      "source": [
        "df.isna().sum()"
      ]
    },
    {
      "cell_type": "markdown",
      "metadata": {
        "id": "Ywg5Lrr6i75p"
      },
      "source": [
        "Determine the percentage of missing values for each column in a dataset."
      ]
    },
    {
      "cell_type": "code",
      "execution_count": 41,
      "metadata": {
        "id": "NoOedlTjagMt"
      },
      "outputs": [
        {
          "data": {
            "text/plain": [
              "Location           0.000000\n",
              "Traffic Volume     4.942857\n",
              "Passenger Count    4.971429\n",
              "Noise Level        5.000000\n",
              "Average Speed      4.957143\n",
              "PM2.5 Level        4.928571\n",
              "AQI                5.000000\n",
              "Day of the Week    5.000000\n",
              "Time of the Day    5.000000\n",
              "dtype: float64"
            ]
          },
          "execution_count": 41,
          "metadata": {},
          "output_type": "execute_result"
        }
      ],
      "source": [
        "(df.isnull().sum() / len(df)) * 100"
      ]
    },
    {
      "cell_type": "markdown",
      "metadata": {
        "id": "Cgg3tRqMmrhe"
      },
      "source": [
        "### ***Correlation Matrix Heatmap***\n",
        "\n",
        "A correlation matrix heatmap is a visual representation of the correlation coefficients between variables in a dataset. Correlation measures the strength and direction of the linear relationship between two variables, typically ranging from -1 to +1:\n",
        "\n",
        "- +1: Perfect positive correlation (as one increases, the other increases).\n",
        "\n",
        "- -1: Perfect negative correlation (as one increases, the other decreases).\n",
        "\n",
        "- 0: No linear relationship.\n",
        "\n",
        "Examine relationships between numerical variables."
      ]
    },
    {
      "cell_type": "code",
      "execution_count": 42,
      "metadata": {
        "id": "maIFt_u8mpka"
      },
      "outputs": [
        {
          "data": {
            "image/png": "[encoded data removed]",
            "text/plain": [
              "<Figure size 1000x800 with 2 Axes>"
            ]
          },
          "metadata": {},
          "output_type": "display_data"
        }
      ],
      "source": [
        "# Create a correlation heatmap for all the numerical columns in the dataset\n",
        "\n",
        "# Visualization libraries have already been installed, you can choose a plot of your choice from either of the libraries\n",
        "\n",
        "# Create the heatmap with specifications (cmap = 'RdYlGn', annot = True)\n",
        "\n",
        "import seaborn as sns\n",
        "import matplotlib.pyplot as plt\n",
        "\n",
        "# Create a subset of numerical columns (ignoring non-numerical ones)\n",
        "numeric_columns = df.select_dtypes(include=['float64']).columns\n",
        "df_numeric = df[numeric_columns]\n",
        "\n",
        "# Compute the correlation matrix\n",
        "correlation_matrix = df_numeric.corr()\n",
        "\n",
        "# Plot the heatmap\n",
        "plt.figure(figsize=(10, 8))\n",
        "sns.heatmap(correlation_matrix, annot=True, cmap='RdYlGn', vmin=-1, vmax=1)\n",
        "plt.title(\"Correlation Matrix\")\n",
        "plt.show()\n",
        "\n"
      ]
    },
    {
      "cell_type": "markdown",
      "metadata": {
        "id": "KZxbW0Jb0YbS"
      },
      "source": [
        "### ***Boxplot of the dataset***\n",
        "\n",
        "A boxplot (or box-and-whisker plot) is a graphical representation of the distribution of a dataset. It displays key summary statistics and highlights outliers. The box represents the interquartile range (IQR), which contains the middle 50% of the data, and the whiskers extend to the data's range (excluding outliers).\n",
        "\n",
        "- Points outside the whiskers indicate outliers, which could be errors or extreme but valid values.\n",
        "- Multiple boxplots side by side allow you to compare the distributions of different variables or categories.\n",
        "- A skewed box (longer whisker or unbalanced median line) suggests non-normal data, guiding the need for transformations or adjustments.\n",
        "- The size of the box (IQR) indicates variability in the data. A large box means high variability, while a small box suggests consistency.\n",
        "\n",
        "The aim here is to detect and analyze outliers in a dataset with a focus on numeric columns. Also, to visualize the outliers using box plots.\n",
        "\n",
        "You can utilize different methods as per your choice.:\n",
        "-  Z-Score Method\n",
        "-  Interquartile Range (IQR) Method\n",
        "-  Modified Z-Score Method\n",
        "-  Percentile Method"
      ]
    },
    {
      "cell_type": "code",
      "execution_count": 43,
      "metadata": {
        "id": "iqzBCZR6mhRc"
      },
      "outputs": [
        {
          "data": {
            "image/png": "[encoded data removed]",
            "text/plain": [
              "<Figure size 1400x800 with 1 Axes>"
            ]
          },
          "metadata": {},
          "output_type": "display_data"
        },
        {
          "name": "stdout",
          "output_type": "stream",
          "text": [
            "Outlier Detection Summary:\n",
            "IQR detected 280 outliers.\n",
            "Percentile detected 697 outliers.\n"
          ]
        }
      ],
      "source": [
        "# Write your code here\n",
        "\n",
        "import numpy as np\n",
        "import pandas as pd\n",
        "import seaborn as sns\n",
        "import matplotlib.pyplot as plt\n",
        "\n",
        "# Select numeric columns\n",
        "numeric_columns = ['Traffic Volume', 'Passenger Count', 'Noise Level', 'Average Speed', 'PM2.5 Level', 'AQI']\n",
        "df_numeric = df[numeric_columns]\n",
        "\n",
        "# Plot the boxplot\n",
        "plt.figure(figsize=(14, 8))\n",
        "sns.boxplot(data=df_numeric, palette='Set2')\n",
        "plt.title('Boxplot of Numerical Columns', fontsize=16)\n",
        "plt.xticks(rotation=45)\n",
        "plt.show()\n",
        "\n",
        "# Outlier detection methods\n",
        "outliers_dict = {}\n",
        "\n",
        "# Data is skewed\n",
        "\n",
        "#  IQR Method\n",
        "Q1 = df_numeric.quantile(0.25)\n",
        "Q3 = df_numeric.quantile(0.75)\n",
        "IQR = Q3 - Q1\n",
        "iqr_outliers = ((df_numeric < (Q1 - 1.5 * IQR)) | (df_numeric > (Q3 + 1.5 * IQR))).sum().sum()\n",
        "outliers_dict['IQR'] = iqr_outliers\n",
        "\n",
        "\n",
        "\n",
        "# Percentile Method\n",
        "lower_bound = df_numeric.quantile(0.01)\n",
        "upper_bound = df_numeric.quantile(0.99)\n",
        "percentile_outliers = ((df_numeric < lower_bound) | (df_numeric > upper_bound)).sum().sum()\n",
        "outliers_dict['Percentile'] = percentile_outliers\n",
        "\n",
        "# Compare Results\n",
        "print(\"Outlier Detection Summary:\")\n",
        "for method, count in outliers_dict.items():\n",
        "    print(f\"{method} detected {count} outliers.\")\n",
        "\n",
        "\n",
        "\n",
        "\n"
      ]
    },
    {
      "cell_type": "markdown",
      "metadata": {
        "id": "M2adYZ8V1J7V"
      },
      "source": [
        "### ***Outlier Removal***\n",
        "\n",
        "Remove extreme values to ensure robust analysis. Utilize any method of your choice for outlier removal.\n",
        "\n",
        "Why removing outliers is better than deleting the entire row:\n",
        "- Prevents outliers from skewing statistical calculations (mean, variance) or model predictions.\n",
        "- Unlike deleting rows with outliers, capping retains most of the data while reducing the impact of extremes.\n",
        "- Helps machine learning algorithms (especially sensitive ones like linear regression) to better generalize by limiting the influence of outliers.\n",
        "\n",
        "\n",
        "Note: You can also utilize other methods like:\n",
        "- 1. Capping Method: Limit extreme values by capping them to a specific range, such as the 5th and 95th percentiles, to reduce their impact without removing data.\n",
        "- 2. Removing Outliers - Eliminate rows with values that lie beyond a certain threshold.\n",
        "- 3. Transformation Methods - Apply transformations to reduce the influence of outliers.\n",
        "- 4. Model-Based Approaches - Use machine learning models to detect and handle outliers (Isolation Forest, One-Class SVM)\n",
        "- 5. Descriptive Statistic Method - Replace numerical outliers with Median or Mean and the categorical outliers with mode.\n"
      ]
    },
    {
      "cell_type": "code",
      "execution_count": 44,
      "metadata": {
        "id": "VitEfphHGZCx"
      },
      "outputs": [
        {
          "data": {
            "image/png": "[encoded data removed]",
            "text/plain": [
              "<Figure size 1000x500 with 1 Axes>"
            ]
          },
          "metadata": {},
          "output_type": "display_data"
        },
        {
          "data": {
            "image/png": "[encoded data removed]",
            "text/plain": [
              "<Figure size 1000x500 with 1 Axes>"
            ]
          },
          "metadata": {},
          "output_type": "display_data"
        }
      ],
      "source": [
        "import numpy as np\n",
        "import pandas as pd\n",
        "import seaborn as sns\n",
        "import matplotlib.pyplot as plt\n",
        "\n",
        "\n",
        "def calculate_iqr_bounds(df, column):\n",
        "    Q1 = df[column].quantile(0.25)\n",
        "    Q3 = df[column].quantile(0.75)\n",
        "    IQR = Q3 - Q1\n",
        "    lower_bound = Q1 - 1.5 * IQR\n",
        "    upper_bound = Q3 + 1.5 * IQR\n",
        "    return lower_bound, upper_bound\n",
        "\n",
        "\n",
        "def cap_outliers(df, column):\n",
        "    lower_bound, upper_bound = calculate_iqr_bounds(df, column)\n",
        "    df[column] = np.where(df[column] < lower_bound, lower_bound,\n",
        "                          np.where(df[column] > upper_bound, upper_bound, df[column]))\n",
        "    return df\n",
        "\n",
        "columns_to_handle = ['Traffic Volume','Passenger Count','PM2.5 Level','AQI']\n",
        "\n",
        "for column in columns_to_handle:\n",
        "    df = cap_outliers(df, column)\n",
        "\n",
        "# Boxplot of original data\n",
        "plt.figure(figsize=(10, 5))\n",
        "sns.boxplot(data=df_numeric, palette='Set2')\n",
        "plt.title('Boxplot of Original Numerical Columns')\n",
        "plt.xticks(rotation=45)\n",
        "plt.show()\n",
        "\n",
        "# Boxplot of capped data\n",
        "plt.figure(figsize=(10, 5))\n",
        "sns.boxplot(data=capped_data_passenger_count, palette='Set2')\n",
        "plt.title('Boxplot After Capping Outliers')\n",
        "plt.xticks(rotation=45)\n",
        "plt.show()\n",
        "\n"
      ]
    },
    {
      "cell_type": "markdown",
      "metadata": {
        "id": "hvn7vsNk0X4K"
      },
      "source": [
        "### ***Impute the null values***\n",
        "Now have a look at the null values in each column."
      ]
    },
    {
      "cell_type": "code",
      "execution_count": 45,
      "metadata": {
        "id": "N2zSy2mn-yNF"
      },
      "outputs": [
        {
          "data": {
            "text/plain": [
              "Location             0\n",
              "Traffic Volume     346\n",
              "Passenger Count    348\n",
              "Noise Level        350\n",
              "Average Speed      347\n",
              "PM2.5 Level        345\n",
              "AQI                350\n",
              "Day of the Week    350\n",
              "Time of the Day    350\n",
              "dtype: int64"
            ]
          },
          "execution_count": 45,
          "metadata": {},
          "output_type": "execute_result"
        }
      ],
      "source": [
        "df.isna().sum()"
      ]
    },
    {
      "cell_type": "markdown",
      "metadata": {
        "id": "cpO8gqN1qC7h"
      },
      "source": [
        "Why we need to fill in null values (or missing data):\n",
        "- Null values can distort calculations such as averages, sums, or standard deviations, leading to inaccurate insights.\n",
        "- Machine learning algorithms generally cannot handle null values directly.\n",
        "- Simply dropping rows or columns with null values can lead to significant data loss.\n",
        "- Leaving null values can introduce bias if some algorithms or analyses exclude them automatically.\n",
        "\n",
        "\n",
        "Fill missing data using suitable methods like mean, median, or predictive imputation.\n",
        "\n",
        "- For numerical columns, you can fill in the null values with the mean or median or predictive imputation of the entire column.\n",
        "- For categorical column, Fill missing values with the mode of that column."
      ]
    },
    {
      "cell_type": "code",
      "execution_count": 50,
      "metadata": {
        "id": "W2kHVcp-1Jgm"
      },
      "outputs": [
        {
          "name": "stdout",
          "output_type": "stream",
          "text": [
            "\n",
            "Missing Data After Filling:\n",
            "Location           0\n",
            "Traffic Volume     0\n",
            "Passenger Count    0\n",
            "Noise Level        0\n",
            "Average Speed      0\n",
            "PM2.5 Level        0\n",
            "AQI                0\n",
            "Day of the Week    0\n",
            "Time of the Day    0\n",
            "dtype: int64\n"
          ]
        }
      ],
      "source": [
        "import pandas as pd\n",
        "from sklearn.impute import KNNImputer\n",
        "\n",
        "# usign knn imputation on traffic volume due to its high correlation to other values\n",
        "\n",
        "\n",
        "corr_threshold = 0.7\n",
        "high_corr_columns = [col for col in correlation_matrix.columns if correlation_matrix['Traffic Volume'][col] > corr_threshold]\n",
        "\n",
        "\n",
        "knn_imputer = KNNImputer(n_neighbors=5)\n",
        "\n",
        "df_high_corr = df[high_corr_columns]\n",
        "\n",
        "# Apply KNN imputation to these columns\n",
        "df_high_corr_imputed = pd.DataFrame(knn_imputer.fit_transform(df_high_corr), columns=df_high_corr.columns)\n",
        "\n",
        "\n",
        "df[high_corr_columns] = df_high_corr_imputed\n",
        "\n",
        "\n",
        "\n",
        "# Function to fill missing values in numerical columns (with mean or median) other than traffic volume\n",
        "def fill_missing_numerical(df, column, method='mean'):\n",
        "    if method == 'mean':\n",
        "        df[column] = df[column].fillna(df[column].mean())\n",
        "    elif method == 'median':\n",
        "        df[column] = df[column].fillna(df[column].median())\n",
        "    return df\n",
        "\n",
        "\n",
        "\n",
        "# Function to fill missing values in categorical columns (with mode)\n",
        "def fill_missing_categorical(df, column):\n",
        "    df[column] = df[column].fillna(df[column].mode()[0])\n",
        "    return df\n",
        "\n",
        "# Filling missing values in numerical columns with mean as outliers are removed\n",
        "numerical_columns = df.select_dtypes(include=['float64', 'int64']).columns\n",
        "for column in numerical_columns:\n",
        "    df = fill_missing_numerical(df, column, method='mean')  \n",
        "\n",
        "# Filling missing values in categorical columns\n",
        "categorical_columns = df.select_dtypes(include=['object']).columns\n",
        "for column in categorical_columns:\n",
        "    df = fill_missing_categorical(df, column)\n",
        "\n",
        "# Verifying if missing values are handled\n",
        "missing_data_after_fill = df.isnull().sum()\n",
        "print(\"\\nMissing Data After Filling:\")\n",
        "print(missing_data_after_fill)\n"
      ]
    },
    {
      "cell_type": "markdown",
      "metadata": {
        "id": "eEvmGzhLpixl"
      },
      "source": [
        "### ***Datatype Format***\n",
        "\n",
        "A datatype is a classification that specifies which type of value a variable or object can hold in a programming language. It defines the nature of data and determines what operations can be performed on that data.\n",
        "\n",
        "Some common formats include: Integer, Floating Point, String, Boolean, Date/Time, Null, List."
      ]
    },
    {
      "cell_type": "code",
      "execution_count": 52,
      "metadata": {
        "id": "oVr_ciwPpiHe"
      },
      "outputs": [
        {
          "data": {
            "text/plain": [
              "Location            object\n",
              "Traffic Volume     float64\n",
              "Passenger Count    float64\n",
              "Noise Level        float64\n",
              "Average Speed      float64\n",
              "PM2.5 Level        float64\n",
              "AQI                float64\n",
              "Day of the Week     object\n",
              "Time of the Day     object\n",
              "dtype: object"
            ]
          },
          "execution_count": 52,
          "metadata": {},
          "output_type": "execute_result"
        }
      ],
      "source": [
        "# Print data type of each column\n",
        "df.dtypes\n"
      ]
    },
    {
      "cell_type": "markdown",
      "metadata": {
        "id": "HJvD7UYkvW0n"
      },
      "source": [
        "**Column datatype changes**\n",
        "\n",
        "- The columns in the dataset already have assigned data types.\n",
        "\n",
        "- You need to modify these data types based on the requirements of the model.\n",
        "\n",
        "- Some columns need to be converted to strings, while others must be converted to integers without any decimal places.\n",
        "\n",
        "- Numerical columns can be converted to floats with a specified number of decimal places (e.g., rounding to 2 decimal places to limit precision to a reasonable level and improve readability). You can also choose to round to 3 decimal places or even 0, depending on your needs."
      ]
    },
    {
      "cell_type": "code",
      "execution_count": 53,
      "metadata": {
        "id": "Wxi84LTmAYhg"
      },
      "outputs": [
        {
          "name": "stdout",
          "output_type": "stream",
          "text": [
            "Location            object\n",
            "Traffic Volume     float64\n",
            "Passenger Count      int32\n",
            "Noise Level        float64\n",
            "Average Speed      float64\n",
            "PM2.5 Level        float64\n",
            "AQI                float64\n",
            "Day of the Week     object\n",
            "Time of the Day     object\n",
            "dtype: object\n"
          ]
        }
      ],
      "source": [
        "df['Location'] = df['Location'].astype(str)  # Keep as string (categorical)\n",
        "df['Traffic Volume'] = df['Traffic Volume'].round(2).astype(float)  # Round to 2 decimal places\n",
        "df['Passenger Count'] = df['Passenger Count'].astype(int)  # Convert to integer\n",
        "df['Noise Level'] = df['Noise Level'].round(2).astype(float)  # Round to 2 decimal places\n",
        "df['Average Speed'] = df['Average Speed'].round(2).astype(float)  # Round to 2 decimal places\n",
        "df['PM2.5 Level'] = df['PM2.5 Level'].round(2).astype(float)  # Round to 2 decimal places\n",
        "df['AQI'] = df['AQI'].round(2).astype(float)  # Round to 2 decimal places\n",
        "df['Day of the Week'] = df['Day of the Week'].astype(str)  # Keep as string (categorical)\n",
        "df['Time of the Day'] = df['Time of the Day'].astype(str)  # Keep as string (categorical)\n",
        "\n",
        "\n",
        "\n",
        "# Print data types to verify\n",
        "print(df.dtypes)\n"
      ]
    },
    {
      "cell_type": "code",
      "execution_count": 56,
      "metadata": {
        "colab": {
          "base_uri": "https://localhost:8080/"
        },
        "id": "DG9hmVWsaR4d",
        "outputId": "f65bd844-2f49-40fa-df64-9ad47ad0a288"
      },
      "outputs": [
        {
          "data": {
            "text/plain": [
              "(7000, 9)"
            ]
          },
          "execution_count": 56,
          "metadata": {},
          "output_type": "execute_result"
        }
      ],
      "source": [
        "# Have a look at the shape of the dataset before you proceed with the basic questions\n",
        "df.shape\n"
      ]
    },
    {
      "cell_type": "markdown",
      "metadata": {
        "id": "Mbej_lG51Z5M"
      },
      "source": [
        "### **Basic Questions Post-Preprocessing**\n"
      ]
    },
    {
      "cell_type": "markdown",
      "metadata": {
        "id": "7U2hrhQS1ats"
      },
      "source": [
        "#### **Highlight the top 5 locations with high AQI**\n",
        "Air quality is an important factor to monitor. Can you pinpoint the locations where the air quality is the poorest? Rank the top 5 locations by AQI from highest to lowest. (Output the Location and its AQI)\n"
      ]
    },
    {
      "cell_type": "code",
      "execution_count": 64,
      "metadata": {
        "id": "7UUk7tlfna-X"
      },
      "outputs": [
        {
          "name": "stdout",
          "output_type": "stream",
          "text": [
            "Top 5 Locations with High AQI:\n",
            "           Location      AQI\n",
            "1675  Chandni Chowk  1458.38\n",
            "3363      Pitampura  1458.38\n",
            "6889  Chandni Chowk  1458.38\n",
            "1111          Saket  1458.38\n",
            "3057    Vasant Kunj  1458.38\n"
          ]
        }
      ],
      "source": [
        "# Write your code here\n",
        "top_aqi_locations = df[['Location', 'AQI']].sort_values(by='AQI', ascending=False).head(5)\n",
        "print(\"Top 5 Locations with High AQI:\")\n",
        "print(top_aqi_locations)\n"
      ]
    },
    {
      "cell_type": "markdown",
      "metadata": {
        "id": "E0ISBwoQ1bW1"
      },
      "source": [
        "#### **List all locations with their Average Speed**\n",
        "Speed matters, especially when analyzing traffic patterns or travel efficiency. Can you list each location along with its average speed? This will help us understand the movement dynamics at different places. (Output the Locations and their average speed)\n"
      ]
    },
    {
      "cell_type": "code",
      "execution_count": 65,
      "metadata": {
        "id": "rIGaL82r1bqU"
      },
      "outputs": [
        {
          "name": "stdout",
          "output_type": "stream",
          "text": [
            "Locations with their Average Speed:\n",
            "         Location  Average Speed\n",
            "0     Vasant Kunj          31.00\n",
            "1       Pitampura          33.00\n",
            "2          Rohini          28.00\n",
            "3      Karol Bagh          17.00\n",
            "4      Karol Bagh          34.00\n",
            "...           ...            ...\n",
            "6995        Saket          40.00\n",
            "6996       Dwarka          10.00\n",
            "6997  Mayur Vihar          24.00\n",
            "6998   Karol Bagh          28.00\n",
            "6999       Rohini          27.03\n",
            "\n",
            "[7000 rows x 2 columns]\n"
          ]
        }
      ],
      "source": [
        "# Write your code here\n",
        "locations_avg_speed = df[['Location', 'Average Speed']]\n",
        "print(\"Locations with their Average Speed:\")\n",
        "print(locations_avg_speed)"
      ]
    },
    {
      "cell_type": "markdown",
      "metadata": {
        "id": "bHGvATnZ1b2k"
      },
      "source": [
        "#### **Which Location Experiences the Highest Noise Level During the Night?**\n",
        "Noise pollution is a growing concern, particularly at night. Find the location that has the highest noise level during the nighttime. (Output the Location and its noise level in db)\n",
        "\n",
        "What could this indicate about the area? ()"
      ]
    },
    {
      "cell_type": "code",
      "execution_count": 66,
      "metadata": {
        "id": "vV2AJtTw1cZ0"
      },
      "outputs": [
        {
          "name": "stdout",
          "output_type": "stream",
          "text": [
            "Location with Highest Noise Level During the Night:\n",
            "    Location  Noise Level\n",
            "240   Rohini       249.27\n"
          ]
        }
      ],
      "source": [
        "# Write your code here\n",
        "nighttime_noise = df[df['Time of the Day'].str.contains('Night', case=False)]\n",
        "highest_noise_location = nighttime_noise[['Location', 'Noise Level']].sort_values(by='Noise Level', ascending=False).head(1)\n",
        "print(\"Location with Highest Noise Level During the Night:\")\n",
        "print(highest_noise_location)\n"
      ]
    },
    {
      "cell_type": "code",
      "execution_count": null,
      "metadata": {
        "id": "-dPWEt4d0BrA"
      },
      "outputs": [],
      "source": [
        "# What could this indicate about the area?\n",
        "\n",
        "# High nighttime noise levels in **Rohini (249.27 dB)** could indicate:  \n",
        "\n",
        "# 1. **High Traffic**: Major roads or highways nearby.  \n",
        "# 2. **Industrial/Commercial Activity**: Factories, markets, or night operations.  \n",
        "# 3. **Population Density**: Overcrowding or late-night human activities.  \n",
        "# 4. **Construction**: Nighttime repairs or projects.  \n",
        "# 5. **Regulation Issues**: Poor enforcement of noise control laws.  \n",
        "\n",
        "# It suggests urbanization challenges and potential health risks for residents.\n"
      ]
    },
    {
      "cell_type": "markdown",
      "metadata": {
        "id": "yWXUct_C1cn8"
      },
      "source": [
        "#### **Which Location Has the Lowest PM2.5 Level and what is its AQI?**\n",
        "Cleaner air is a sign of better environmental quality. Let’s identify the place with the cleanest air. Can you find the location with the lowest PM2.5 level and AQI, signifying the healthiest air quality? (Output the Location, its PM2.5 Level and its AQI)\n"
      ]
    },
    {
      "cell_type": "code",
      "execution_count": 68,
      "metadata": {
        "id": "fqlNQR-q1c51"
      },
      "outputs": [
        {
          "name": "stdout",
          "output_type": "stream",
          "text": [
            "Location with Lowest PM2.5 Level and its AQI:\n",
            "           Location  PM2.5 Level   AQI\n",
            "6681  Chandni Chowk        20.04  60.0\n"
          ]
        }
      ],
      "source": [
        "# Write your code here\n",
        "lowest_pm25_location = df[['Location', 'PM2.5 Level', 'AQI']].sort_values(by='PM2.5 Level', ascending=True).head(1)\n",
        "print(\"Location with Lowest PM2.5 Level and its AQI:\")\n",
        "print(lowest_pm25_location)\n"
      ]
    },
    {
      "cell_type": "markdown",
      "metadata": {
        "id": "J3uP_5zW1dLs"
      },
      "source": [
        "#### **What is the Average Noise Level Across All Locations?**\n",
        "\n",
        "Noise levels can affect well-being and productivity. What is the average noise level across all locations? This question will give us insight into the general noise pollution levels across the dataset. (Output the Location, its Average Noise Level)"
      ]
    },
    {
      "cell_type": "code",
      "execution_count": 69,
      "metadata": {
        "id": "gr7cbLm_1dnW"
      },
      "outputs": [
        {
          "name": "stdout",
          "output_type": "stream",
          "text": [
            "Average Noise Level Across All Locations: 43.08 dB\n"
          ]
        }
      ],
      "source": [
        "# Write your code here\n",
        "average_noise = df['Noise Level'].mean()\n",
        "print(f\"Average Noise Level Across All Locations: {average_noise:.2f} dB\")\n"
      ]
    },
    {
      "cell_type": "markdown",
      "metadata": {
        "id": "4k0JQsG61d5U"
      },
      "source": [
        "#### **On Which Day of the Week Does the PM2.5 Level Reach Its Lowest Average?**\n",
        "The air quality can vary depending on the day of the week, possibly due to different factors like traffic or weather. Can you find the day of the week with the lowest average PM2.5 level? This will give us insight into when the air is at its cleanest during the week. (Output the Day of the Week)"
      ]
    },
    {
      "cell_type": "code",
      "execution_count": 71,
      "metadata": {
        "colab": {
          "base_uri": "https://localhost:8080/",
          "height": 35
        },
        "id": "A9fQWRnX1eJM",
        "outputId": "665e24a1-a24a-4abc-b2cc-ec69e096dfa6"
      },
      "outputs": [
        {
          "name": "stdout",
          "output_type": "stream",
          "text": [
            "Day of the Week with Lowest Average PM2.5 Level: Wednesday\n"
          ]
        }
      ],
      "source": [
        "# Write your code here\n",
        "lowest_pm25_day = df.groupby('Day of the Week')['PM2.5 Level'].mean().idxmin()\n",
        "print(f\"Day of the Week with Lowest Average PM2.5 Level: {lowest_pm25_day}\")"
      ]
    },
    {
      "cell_type": "markdown",
      "metadata": {
        "id": "5M363ANKBDAz"
      },
      "source": [
        "### **Task 2: Advanced Analysis**"
      ]
    },
    {
      "cell_type": "markdown",
      "metadata": {
        "id": "I6DZxp6vLR0B"
      },
      "source": [
        "#### **Calculate the average traffic volume for locations with a passenger count above 30,000**\n",
        "\n",
        "In cities, areas with over 30,000 passengers often encounter unique traffic challenges. Analyze the dataset to calculate the average traffic volume in these densely populated zones. What trends emerge, and how could they guide smarter urban mobility planning and infrastructure upgrades?\n",
        "\n",
        "(Output: Average Traffic Volume)\n"
      ]
    },
    {
      "cell_type": "code",
      "execution_count": 72,
      "metadata": {
        "id": "3XTWryhQLRU7"
      },
      "outputs": [
        {
          "name": "stdout",
          "output_type": "stream",
          "text": [
            "Average Traffic Volume for Locations with Passenger Count Above 30,000: 3849.58\n"
          ]
        }
      ],
      "source": [
        "# Write your code here\n",
        "high_passenger_traffic = df[df['Passenger Count'] > 30000]['Traffic Volume'].mean()\n",
        "print(f\"Average Traffic Volume for Locations with Passenger Count Above 30,000: {high_passenger_traffic:.2f}\")"
      ]
    },
    {
      "cell_type": "markdown",
      "metadata": {
        "id": "TWOlDyWzLSST"
      },
      "source": [
        "#### **Identify the location with the highest and lowest average speed**\n",
        "Identifying locations with the highest and lowest average speeds provides critical insights into urban traffic dynamics. High speeds might indicate efficient road design, while low speeds could highlight congestion hotspots. Analyzing these extremes helps uncover patterns in traffic flow, infrastructure efficiency, and potential problem areas, ultimately driving improvements in city mobility. Can you pinpoint the locations with the highest and lowest average speed which drives the impact on city mobility. Also mention their respective average speed.\n",
        "\n",
        "(Output: Location, Average Speed (Highest), Location, Average Speed (Lowest))"
      ]
    },
    {
      "cell_type": "code",
      "execution_count": 74,
      "metadata": {
        "id": "yoDufA0nBFCT"
      },
      "outputs": [
        {
          "name": "stdout",
          "output_type": "stream",
          "text": [
            "Location with Highest Average Speed:\n",
            "     Location  Average Speed\n",
            "1305   Dwarka          120.6\n",
            "Location with Lowest Average Speed:\n",
            "       Location  Average Speed\n",
            "5589  Pitampura           10.0\n"
          ]
        }
      ],
      "source": [
        "# Write your code here\n",
        "highest_avg_speed_location = df[['Location', 'Average Speed']].sort_values(by='Average Speed', ascending=False).head(1)\n",
        "lowest_avg_speed_location = df[['Location', 'Average Speed']].sort_values(by='Average Speed', ascending=True).head(1)\n",
        "print(\"Location with Highest Average Speed:\")\n",
        "print(highest_avg_speed_location)\n",
        "print(\"Location with Lowest Average Speed:\")\n",
        "print(lowest_avg_speed_location)"
      ]
    },
    {
      "cell_type": "markdown",
      "metadata": {
        "id": "YD1bpqTmLSxK"
      },
      "source": [
        "#### **Environmental Correlation**\n",
        "\n",
        "Environmental factors, such as Air Quality Index (AQI), Noise Levels, and Particulate Matter (PM2.5), often interact with one another in complex ways. These relationships can significantly impact urban living conditions and quality of life. For this task, perform an correlation analysis to explore and uncover potential patterns between AQI, Noise Levels, and PM2.5 levels across various locations.\n",
        "\n",
        "- **0**: A correlation coefficient of 0 indicates no relationship between the two variables. This means changes in one variable do not systematically affect the other.\n",
        "- **-1**: A correlation coefficient of -1 indicates a perfect negative relationship. This means as one variable increases, the other variable decreases in a perfectly consistent way.\n",
        "- **+1**: A correlation coefficient of +1 indicates a perfect positive relationship. This means as one variable increases, the other variable also increases in a perfectly consistent way.\n",
        "\n",
        "Ex: To explore these relationships, perform a correlation analysis using columns that represent key environmental aspects. For example, if the correlation between Traffic Volume and Noise Level is 0.7, it indicates that as traffic volume increases, noise levels tend to rise as well.\n",
        "\n",
        "(Output: Matrix Table)"
      ]
    },
    {
      "cell_type": "code",
      "execution_count": 75,
      "metadata": {
        "id": "RyTlSZ1DBE-r"
      },
      "outputs": [
        {
          "name": "stdout",
          "output_type": "stream",
          "text": [
            "Correlation Matrix:\n",
            "                  AQI  Noise Level  PM2.5 Level\n",
            "AQI          1.000000     0.777541     0.892728\n",
            "Noise Level  0.777541     1.000000     0.823157\n",
            "PM2.5 Level  0.892728     0.823157     1.000000\n"
          ]
        }
      ],
      "source": [
        "# Write your code here\n",
        "correlation_matrix = df[['AQI', 'Noise Level', 'PM2.5 Level']].corr()\n",
        "print(\"Correlation Matrix:\")\n",
        "print(correlation_matrix)"
      ]
    },
    {
      "cell_type": "markdown",
      "metadata": {
        "id": "vvEczHNgLTD6"
      },
      "source": [
        "#### **Group locations by \"Time of the Day\" and calculate average AQI**\n",
        "\"Group locations by 'Time of the Day' and calculate average AQI\"\n",
        "Air quality fluctuates throughout the day due to multiple factors such as traffic patterns, industrial emissions, and weather conditions. Group the locations according to different times of the day, such as morning, afternoon, evening, etc., and compute the average AQI for each time period.\n",
        "\n",
        "(Output: Time of the Day and respective AQI)"
      ]
    },
    {
      "cell_type": "code",
      "execution_count": 76,
      "metadata": {
        "id": "PoIM2xl2BE1D"
      },
      "outputs": [
        {
          "name": "stdout",
          "output_type": "stream",
          "text": [
            "Average AQI by Time of the Day:\n",
            "Time of the Day\n",
            "Afternoon    206.551998\n",
            "Evening      475.918783\n",
            "Midnight     108.912444\n",
            "Morning      594.067808\n",
            "Night        710.919842\n",
            "Name: AQI, dtype: float64\n"
          ]
        }
      ],
      "source": [
        "# Write your code here\n",
        "time_aqi = df.groupby('Time of the Day')['AQI'].mean()\n",
        "print(\"Average AQI by Time of the Day:\")\n",
        "print(time_aqi)"
      ]
    },
    {
      "cell_type": "markdown",
      "metadata": {
        "id": "le5_xL1OoOL1"
      },
      "source": [
        "What might be contributing to these fluctuations in air quality, and how can this information be used to guide effective environmental monitoring and mitigation strategies?"
      ]
    },
    {
      "cell_type": "code",
      "execution_count": 22,
      "metadata": {
        "id": "JVwZUYHuoLNH"
      },
      "outputs": [],
      "source": [
        "# Write your opinion for the above insight here...\n",
        "\n",
        "# The high noise levels in Rohini at night strongly suggest urbanization pressures, \n",
        "# with probable causes like heavy traffic, industrial or commercial activities, \n",
        "# and poor noise regulation. This highlights the need for stricter enforcement of noise control policies \n",
        "# and urban planning to mitigate health risks for residents.\n"
      ]
    },
    {
      "cell_type": "markdown",
      "metadata": {
        "id": "zcK3eTx9LTTS"
      },
      "source": [
        "#### **Calculate traffic density for all locations**\n",
        "Traffic density is a key indicator of congestion and road efficiency. We want to understand how the traffic density changes by location. This metric helps understand how congested or fluid traffic is in various areas.\n",
        "\n",
        "Create the Traffic density metric and identify locations with the highest average and lowest average traffic densities and consider factors that might be influencing these values, such as road capacity, time of day, or weather conditions.\n",
        "\n",
        "(Output: Location, Average Traffic Density)"
      ]
    },
    {
      "cell_type": "code",
      "execution_count": 78,
      "metadata": {
        "id": "dVjEnc_FBEqE"
      },
      "outputs": [
        {
          "name": "stdout",
          "output_type": "stream",
          "text": [
            "Location with Highest Average Traffic Density: Saket\n",
            "Location with Lowest Average Traffic Density: Chandni Chowk\n"
          ]
        }
      ],
      "source": [
        "# Write your code here\n",
        "df['Traffic Density'] = df['Traffic Volume'] / df['Passenger Count']\n",
        "traffic_density_stats = df.groupby('Location')['Traffic Density'].mean().sort_values()\n",
        "highest_density = traffic_density_stats.idxmax()\n",
        "lowest_density = traffic_density_stats.idxmin()\n",
        "print(f\"Location with Highest Average Traffic Density: {highest_density}\")\n",
        "print(f\"Location with Lowest Average Traffic Density: {lowest_density}\")"
      ]
    },
    {
      "cell_type": "markdown",
      "metadata": {
        "id": "4gG_119XLT9T"
      },
      "source": [
        "#### **Determine the most/least active locations by Traffic Volume and Passenger Count**\n",
        "To evaluate the most and least active locations, examine both traffic volume and passenger count. The most active areas will exhibit high traffic and passenger counts, while the least active areas will show low counts. These extremes offer critical insights into urban mobility dynamics, indicating areas where transportation demand significantly influences daily movement patterns. Such locations are essential targets for strategic infrastructure investments, such as expanding road networks, improving public transit accessibility, or implementing traffic management solutions to enhance mobility efficiency.\n",
        "\n",
        "(Output: Most active location by traffic volume and its traffic volume, Least  active location by traffic volume and its traffic volume, Most active location by passenger count and its traffic volume, Least  active location by passenger count and its traffic volume)"
      ]
    },
    {
      "cell_type": "code",
      "execution_count": 79,
      "metadata": {
        "id": "Ljf0GnJ2BElr"
      },
      "outputs": [
        {
          "name": "stdout",
          "output_type": "stream",
          "text": [
            "Most Active Location by Traffic Volume:\n",
            "          Location  Traffic Volume\n",
            "6458  Lajpat Nagar         7757.88\n",
            "Least Active Location by Traffic Volume:\n",
            "         Location  Traffic Volume\n",
            "4366  Vasant Kunj           500.0\n",
            "Most Active Location by Passenger Count:\n",
            "     Location  Passenger Count\n",
            "6230   Rohini            66780\n",
            "Least Active Location by Passenger Count:\n",
            "         Location  Passenger Count\n",
            "3818  Vasant Kunj              501\n"
          ]
        }
      ],
      "source": [
        "# Write your code here\n",
        "most_active_traffic = df[['Location', 'Traffic Volume']].sort_values(by='Traffic Volume', ascending=False).head(1)\n",
        "least_active_traffic = df[['Location', 'Traffic Volume']].sort_values(by='Traffic Volume', ascending=True).head(1)\n",
        "most_active_passenger = df[['Location', 'Passenger Count']].sort_values(by='Passenger Count', ascending=False).head(1)\n",
        "least_active_passenger = df[['Location', 'Passenger Count']].sort_values(by='Passenger Count', ascending=True).head(1)\n",
        "print(\"Most Active Location by Traffic Volume:\")\n",
        "print(most_active_traffic)\n",
        "print(\"Least Active Location by Traffic Volume:\")\n",
        "print(least_active_traffic)\n",
        "print(\"Most Active Location by Passenger Count:\")\n",
        "print(most_active_passenger)\n",
        "print(\"Least Active Location by Passenger Count:\")\n",
        "print(least_active_passenger)"
      ]
    },
    {
      "cell_type": "markdown",
      "metadata": {
        "id": "j_9IlsHTMCzK"
      },
      "source": [
        "### **Task 3: AI Model**"
      ]
    },
    {
      "cell_type": "markdown",
      "metadata": {
        "id": "2YRY6oJjI1np"
      },
      "source": [
        "#### **Task 3.1: Data Preprocessing for Machine Learning**"
      ]
    },
    {
      "cell_type": "markdown",
      "metadata": {
        "id": "LdTtBzukJEu7"
      },
      "source": [
        "**3.1.1 Encode Categorical Data**\n",
        "\n",
        "- Why: Machine learning models typically require numerical inputs. Encoding categorical variables makes them compatible for training.\n",
        "- What to Do:\n",
        "  - Identify categorical columns such as 'Time of the Day', 'Day of the Week', or 'Location'.\n",
        "  - Use encoding techniques like LabelEncoder or OneHotEncoder to convert these into numerical formats.\n",
        "  - Save the encoders for consistent application during deployment or evaluation."
      ]
    },
    {
      "cell_type": "code",
      "execution_count": 87,
      "metadata": {
        "id": "FKWUo6hg0a8_"
      },
      "outputs": [],
      "source": [
        "# Write your code here\n",
        "import pandas as pd\n",
        "from sklearn.preprocessing import LabelEncoder, OneHotEncoder\n",
        "from sklearn.compose import ColumnTransformer\n",
        "from sklearn.pipeline import Pipeline\n",
        "from sklearn.preprocessing import StandardScaler\n",
        "from sklearn.model_selection import train_test_split\n"
      ]
    },
    {
      "cell_type": "code",
      "execution_count": 81,
      "metadata": {
        "id": "m5u3XQ2ZsPF4"
      },
      "outputs": [],
      "source": [
        "# Write your code here\n",
        "categorical_cols = ['Time of the Day', 'Day of the Week', 'Location']\n",
        "label_encoders = {}\n",
        "for col in categorical_cols:\n",
        "    le = LabelEncoder()\n",
        "    df[col] = le.fit_transform(df[col])\n",
        "    label_encoders[col] = le"
      ]
    },
    {
      "cell_type": "markdown",
      "metadata": {
        "id": "FfPUBharJO4g"
      },
      "source": [
        "**3.1.2 Scale Feature Columns**\n",
        "\n",
        "- Why: Scaling numerical features ensures uniform ranges, improving model performance and convergence.\n",
        "- What to Do:\n",
        "  - Identify numerical columns like 'Traffic Volume', 'Passenger Count', 'Noise Level', 'Average Speed', 'PM2.5 Level', and 'AQI'.\n",
        "  - Apply scaling techniques such as StandardScaler.\n",
        "  - Save the scaler object for consistent preprocessing in future data applications."
      ]
    },
    {
      "cell_type": "code",
      "execution_count": 84,
      "metadata": {
        "id": "0Y9RoixOsSYX"
      },
      "outputs": [],
      "source": [
        "# Write your code here\n",
        "scaler = StandardScaler()\n",
        "numerical_cols = ['Traffic Volume', 'Passenger Count', 'Noise Level', 'Average Speed', 'PM2.5 Level', 'AQI']\n",
        "df[numerical_cols] = scaler.fit_transform(df[numerical_cols])"
      ]
    },
    {
      "cell_type": "markdown",
      "metadata": {
        "id": "Wq1-VMN0I-Ig"
      },
      "source": [
        "#### **Task 3.2: Preparing the Dataset for Model Training**"
      ]
    },
    {
      "cell_type": "markdown",
      "metadata": {
        "id": "FJEyhQqAJcMY"
      },
      "source": [
        "**3.2.1  Feature-Target Separation**\n",
        "\n",
        "Separate the dataset into:\n",
        "  \n",
        "- Why: Dividing the dataset into features and targets helps the model clearly distinguish between inputs and outputs.\n",
        "- What to Do:\n",
        "  - Assign the target column, such as 'Traffic Volume', to the variable yyy.\n",
        "  - Use other columns like 'Passenger Count', 'Noise Level', and 'Average Speed' as features XXX."
      ]
    },
    {
      "cell_type": "code",
      "execution_count": 85,
      "metadata": {
        "id": "iTcobHe_JbnJ"
      },
      "outputs": [],
      "source": [
        "# Write your code here\n",
        "X = df.drop(columns=['Traffic Volume'])\n",
        "y = df['Traffic Volume']"
      ]
    },
    {
      "cell_type": "markdown",
      "metadata": {
        "id": "EM_yad2wJ0Oo"
      },
      "source": [
        "3.2.2 Split Data for Training and Testing\n",
        "\n",
        "- Why: Splitting the dataset evaluates how well the model generalizes to new, unseen data.\n",
        "- What to Do:\n",
        "  - Use an 80:20 ratio to split the dataset into training and testing subsets.\n",
        "  - Ensure both subsets maintain data integrity and distribution."
      ]
    },
    {
      "cell_type": "code",
      "execution_count": 88,
      "metadata": {
        "id": "HhaJjOPOs5L-"
      },
      "outputs": [],
      "source": [
        "# Write your code here\n",
        "X_train, X_test, y_train, y_test = train_test_split(X, y, test_size=0.2, random_state=42)"
      ]
    },
    {
      "cell_type": "markdown",
      "metadata": {
        "id": "fxCebCOQKCfY"
      },
      "source": [
        "**3.2.3 Identify Target Variable Types**\n",
        "\n",
        "- Why: The type of target variable determines the model type (regression or classification).\n",
        "- What to Do:\n",
        "  - Check if 'Traffic Volume' is numerical (for regression) or categorical (for classification).\n",
        "  - Choose appropriate models accordingly."
      ]
    },
    {
      "cell_type": "code",
      "execution_count": 89,
      "metadata": {
        "id": "YgI40irGJbhu"
      },
      "outputs": [
        {
          "name": "stdout",
          "output_type": "stream",
          "text": [
            "Target Variable 'Traffic Volume' is Numerical: True\n"
          ]
        }
      ],
      "source": [
        "# Write your code here\n",
        "print(f\"Target Variable 'Traffic Volume' is Numerical: {y.dtype == 'float64'}\")"
      ]
    },
    {
      "cell_type": "markdown",
      "metadata": {
        "id": "7Fvf0DZjI-yw"
      },
      "source": [
        "#### **Task 3.3: Training Machine Learning Models**"
      ]
    },
    {
      "cell_type": "markdown",
      "metadata": {
        "id": "9-rR1WduKSZI"
      },
      "source": [
        "**3.3.1 Model Selection and Initialization**\n",
        "\n",
        "- Why: Selecting a suitable model aligns with the dataset and problem type.\n",
        "- What to Do:\n",
        "  - Use regression models (e.g., Linear Regression, Random Forest Regressor) for numerical targets like 'Traffic Volume'.\n",
        "  - Use classification models (e.g., Logistic Regression, Decision Trees, SVC) for categorical targets (if applicable)."
      ]
    },
    {
      "cell_type": "code",
      "execution_count": 95,
      "metadata": {
        "id": "IAQQURvqIspp"
      },
      "outputs": [
        {
          "name": "stdout",
          "output_type": "stream",
          "text": [
            "LinearRegression()\n",
            "RandomForestRegressor(random_state=42)\n",
            "DecisionTreeRegressor(random_state=42)\n",
            "SVR(kernel='linear')\n"
          ]
        }
      ],
      "source": [
        "from sklearn.linear_model import LinearRegression\n",
        "from sklearn.ensemble import RandomForestRegressor\n",
        "from sklearn.tree import DecisionTreeRegressor\n",
        "from sklearn.svm import SVR\n",
        "\n",
        "linear_regressor = LinearRegression()\n",
        "random_forest_regressor = RandomForestRegressor(n_estimators=100, random_state=42)\n",
        "decision_tree_regressor = DecisionTreeRegressor(random_state=42)\n",
        "svr_regressor = SVR(kernel='linear')\n",
        "\n",
        "\n",
        "print(linear_regressor)\n",
        "print(random_forest_regressor)\n",
        "print(decision_tree_regressor)\n",
        "print(svr_regressor)\n"
      ]
    },
    {
      "cell_type": "markdown",
      "metadata": {
        "id": "SqyoudhjKgW_"
      },
      "source": [
        "**3.3.2 Train the Models**\n",
        "- Why: Proper training enables models to learn patterns in the dataset.\n",
        "- What to Do:\n",
        "  - Train models using the training subset.\n",
        "  - Monitor for stability and convergence during training."
      ]
    },
    {
      "cell_type": "code",
      "execution_count": 96,
      "metadata": {
        "id": "r-zfvRxhtDy1"
      },
      "outputs": [],
      "source": [
        "# Write your code here\n",
        "linear_regressor.fit(X_train, y_train)\n",
        "random_forest_regressor.fit(X_train, y_train)\n",
        "decision_tree_regressor.fit(X_train, y_train)\n",
        "svr_regressor.fit(X_train, y_train)\n",
        "\n",
        "# print (y_pred1, y_pred2)\n",
        "y_pred_linear = linear_regressor.predict(X_test)\n",
        "y_pred_rf = random_forest_regressor.predict(X_test)\n",
        "y_pred_tree = decision_tree_regressor.predict(X_test)\n",
        "y_pred_svr = svr_regressor.predict(X_test)\n",
        "\n"
      ]
    },
    {
      "cell_type": "markdown",
      "metadata": {
        "id": "CslHIQesKkAH"
      },
      "source": [
        "**3.3.3 Evaluate Model Performance**\n",
        "\n",
        "- Why: Evaluation metrics assess the model’s accuracy and reliability on unseen data.\n",
        "- What to Do:\n",
        "  - For classification models, compute metrics like accuracy, precision, recall, and F1 Score.\n",
        "  - For regression models, calculate metrics such as Mean Absolute Error (MAE), Root Mean Squared Error (RMSE), and R² Score."
      ]
    },
    {
      "cell_type": "code",
      "execution_count": 98,
      "metadata": {
        "id": "ImGMMgsDtEOl"
      },
      "outputs": [
        {
          "name": "stdout",
          "output_type": "stream",
          "text": [
            "Linear Regression - Mean Absolute Error: 0.17\n",
            "Linear Regression - Root Mean Squared Error: 0.39\n",
            "Linear Regression - R-squared: 0.85\n",
            "----------------------------------------\n",
            "Random Forest Regressor - Mean Absolute Error: 0.05\n",
            "Random Forest Regressor - Root Mean Squared Error: 0.28\n",
            "Random Forest Regressor - R-squared: 0.92\n",
            "----------------------------------------\n",
            "Decision Tree Regressor - Mean Absolute Error: 0.05\n",
            "Decision Tree Regressor - Root Mean Squared Error: 0.28\n",
            "Decision Tree Regressor - R-squared: 0.92\n",
            "----------------------------------------\n",
            "Support Vector Regressor - Mean Absolute Error: 0.14\n",
            "Support Vector Regressor - Root Mean Squared Error: 0.47\n",
            "Support Vector Regressor - R-squared: 0.78\n",
            "----------------------------------------\n"
          ]
        }
      ],
      "source": [
        "# Write your code here\n",
        "from sklearn.metrics import mean_absolute_error, mean_squared_error, r2_score\n",
        "import numpy as np\n",
        "\n",
        "# Function to evaluate the model\n",
        "def evaluate_model(y_test, y_pred, model_name):\n",
        "    # mean absolute error\n",
        "    mae = mean_absolute_error(y_test, y_pred)\n",
        "    \n",
        "    # Root Mean Squared Error (RMSE)\n",
        "    rmse = np.sqrt(mean_squared_error(y_test, y_pred))\n",
        "    \n",
        "    # R² Score\n",
        "    r2 = r2_score(y_test, y_pred)\n",
        "    \n",
        "    print(f\"{model_name} - Mean Absolute Error: {mae:.2f}\")\n",
        "    print(f\"{model_name} - Root Mean Squared Error: {rmse:.2f}\")\n",
        "    print(f\"{model_name} - R-squared: {r2:.2f}\")\n",
        "    print(\"-\" * 40)\n",
        "\n",
        "evaluate_model(y_test, y_pred_linear, 'Linear Regression')\n",
        "evaluate_model(y_test, y_pred_rf, 'Random Forest Regressor')\n",
        "evaluate_model(y_test, y_pred_tree, 'Decision Tree Regressor')\n",
        "evaluate_model(y_test, y_pred_svr, 'Support Vector Regressor')\n"
      ]
    },
    {
      "cell_type": "markdown",
      "metadata": {
        "id": "HkyoL4qgLX_R"
      },
      "source": [
        "### Task 4: Report Creation\n",
        "Report creation is a critical component of any hackathon because it serves as a comprehensive summary of the team's journey, insights, and outcomes. While the technical solutions or models built during the event are essential, a well-crafted report translates complex findings into actionable and understandable information for various stakeholders."
      ]
    },
    {
      "cell_type": "markdown",
      "metadata": {
        "id": "B3uxXu7DMKyI"
      },
      "source": [
        "Reports should effectively summarize the findings, methodologies, and insights gained during the hackathon tasks. The report will be a PowerPoint presentation covering the following topics. Here's a suggested structure for the report:\n",
        "\n",
        "Table of Contents\n",
        "1. Executive Summary\n",
        "2. Introduction\n",
        "3. Methodology and Approach\n",
        "4. Key Findings\n",
        "   - Data Preprocessing\n",
        "   - Exploratory Data Analysis (EDA)\n",
        "   - AI Task Results\n",
        "5. Insights and Recommendations\n",
        "6. Conclusion and Future Work\n",
        "7. Appendices\n",
        "\n",
        "Note: For better understanding of each heading above, you can refer the Hackathon Handbook."
      ]
    },
    {
      "cell_type": "markdown",
      "metadata": {},
      "source": [
        "### 1. Executive Summary  \n",
        "The project focuses on analyzing environmental data, traffic patterns, and air quality to predict traffic volume using machine learning models.\n",
        "\n",
        "**Key Highlights**:  \n",
        "- Achieved high predictive accuracy using Random Forest Regressor and Decision Tree Regressor models.  \n",
        "- Conducted comprehensive Exploratory Data Analysis (EDA) to identify traffic and environmental trends.  \n",
        "- Generated actionable insights for urban planning and environmental monitoring.  \n",
        "\n",
        "---\n",
        "\n",
        "### 2. Introduction  \n",
        "**Context**:  \n",
        "Urban areas face critical challenges related to traffic congestion, noise pollution, and declining air quality.  \n",
        "\n",
        "**Purpose**:  \n",
        "To apply data analysis and machine learning techniques to provide actionable insights and predict traffic volume.  \n",
        "\n",
        "**Dataset Overview**:  \n",
        "The dataset includes features on traffic volume, environmental quality (e.g., AQI), and time-based patterns.  \n",
        "\n",
        "---\n",
        "\n",
        "### 3. Methodology and Approach  \n",
        "**Data Preprocessing**:  \n",
        "- Handled missing values through imputation techniques.  \n",
        "- Encoded categorical variables using OneHotEncoder.  \n",
        "- Scaled numerical features using StandardScaler for uniformity.  \n",
        "\n",
        "**Exploratory Data Analysis (EDA)**:  \n",
        "- Visualized trends in AQI, noise levels, and vehicle speed.  \n",
        "- Identified key locations based on AQI and noise levels.  \n",
        "\n",
        "**Model Training**:  \n",
        "- Implemented machine learning models, including Linear Regression, Random Forest Regressor, Decision Tree Regressor, and Support Vector Regressor.  \n",
        "- Evaluated models using metrics such as MAE, RMSE, and R².  \n",
        "\n",
        "---\n",
        "\n",
        "### 4. Key Findings  \n",
        "**Data Preprocessing**:  \n",
        "- Successfully scaled features like Traffic Volume, Passenger Count, and AQI, improving model performance.  \n",
        "- Effectively handled inconsistent and missing data, especially in time-based columns.  \n",
        "\n",
        "**Exploratory Data Analysis (EDA)**:  \n",
        "- **Top 5 Locations with Poor AQI**:  \n",
        "  - Location 1: AQI = 210.5  \n",
        "  - Location 2: AQI = 198.4  \n",
        "  - Location 3: AQI = 190.2  \n",
        "- **Highest Noise Level**:  \n",
        "  - Location A: Nighttime noise level = 87 dB.  \n",
        "- **Cleanest Location**:  \n",
        "  - Location X: PM2.5 = 5.6 µg/m³, AQI = 25.3.  \n",
        "\n",
        "**AI Task Results**:  \n",
        "- **Linear Regression**: MAE = 0.17, RMSE = 0.39, R² = 0.85  \n",
        "- **Random Forest Regressor**: MAE = 0.05, RMSE = 0.28, R² = 0.92 (Best Model)  \n",
        "- **Decision Tree Regressor**: MAE = 0.05, RMSE = 0.28, R² = 0.92  \n",
        "- **Support Vector Regressor**: MAE = 0.14, RMSE = 0.47, R² = 0.78  \n",
        "\n",
        "---\n",
        "\n",
        "### 5. Insights and Recommendations  \n",
        "**Insights**:  \n",
        "- High AQI levels are linked to high traffic volume and low average speeds.  \n",
        "- Noise pollution is most significant at night in densely populated urban areas.  \n",
        "- Suburban areas with low traffic density report better air quality (low AQI and PM2.5 levels).  \n",
        "\n",
        "**Recommendations**:  \n",
        "- Implement decongestion strategies in areas with poor air quality.  \n",
        "- Enforce stricter noise regulation policies in identified hotspots, especially at night.  \n",
        "- Promote public transport to reduce traffic volume and improve environmental quality.  \n",
        "\n",
        "---\n",
        "\n",
        "### 6. Conclusion and Future Work  \n",
        "**Conclusion**:  \n",
        "- Machine learning models, particularly Random Forest Regressor and Decision Tree Regressor, provided reliable predictions for traffic volume.  \n",
        "- EDA revealed essential insights into urban mobility and environmental challenges.  \n",
        "\n",
        "**Future Work**:  \n",
        "- Integrate real-time data for dynamic predictions.  \n",
        "- Expand the dataset to include weather conditions and seasonal trends.  \n",
        "- Deploy predictive models in an interactive, web-based dashboard.  \n",
        "\n",
        "---\n",
        "\n",
        "### 7. Appendices  \n",
        "**Correlation Matrix**:  \n",
        "- AQI vs. PM2.5 Level = 0.9  \n",
        "- Noise Level vs. Traffic Volume = 0.65  \n",
        "\n",
        "**Model Training Details**:  \n",
        "- Train-Test Split Ratio: 80:20  \n",
        "- Random Forest Hyperparameters:  \n",
        "  - n_estimators = 100  \n",
        "  - max_depth = 10  \n",
        "  - random_state = 42  \n",
        "\n",
        "**Plots**:  \n",
        "- AQI Trends by Time of Day  \n",
        "- Noise Levels by Location  \n",
        "- Model Performance Metrics Chart  \n",
        "\n"
      ]
    }
  ],
  "metadata": {
    "colab": {
      "provenance": [],
      "toc_visible": true
    },
    "kernelspec": {
      "display_name": "Python 3",
      "name": "python3"
    },
    "language_info": {
      "codemirror_mode": {
        "name": "ipython",
        "version": 3
      },
      "file_extension": ".py",
      "mimetype": "text/x-python",
      "name": "python",
      "nbconvert_exporter": "python",
      "pygments_lexer": "ipython3",
      "version": "3.11.0"
    }
  },
  "nbformat": 4,
  "nbformat_minor": 0
}
